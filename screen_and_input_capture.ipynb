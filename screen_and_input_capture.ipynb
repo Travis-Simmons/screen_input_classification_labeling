{
 "cells": [
  {
   "cell_type": "code",
   "execution_count": 1,
   "metadata": {},
   "outputs": [],
   "source": [
    "import cv2\n",
    "\n",
    "input_1 = [475, 217]\n",
    "input_2 = [475, 260]\n",
    "input_3 = [517, 276]\n",
    "input_4 = [517, 400]\n",
    "\n",
    "inputs = [input_1, input_2, input_3, input_4]\n",
    "\n",
    "\n",
    "\n",
    "cap = cv2.VideoCapture('/home/travis/obs_videos/2021-12-19 13-14-34.mkv')\n",
    "count = 0\n",
    "while cap.isOpened():\n",
    "    ret,frame = cap.read()\n",
    "    # cv2.imshow('window-name', frame)\n",
    "    cnt = 1\n",
    "    name = ''\n",
    "    for i in inputs:\n",
    "        # print(frame[i])\n",
    "        if frame[i[0], i[1]][0] != 0:\n",
    "            name = name + str(cnt)\n",
    "        cnt +=1\n",
    "\n",
    "    if name == '':\n",
    "        name = '0'\n",
    "\n",
    "    \n",
    "    cv2.imwrite(f\"./screenshots/frame{count}_{name}.jpg\", frame)\n",
    "    count = count + 1\n",
    "    if cv2.waitKey(10) & 0xFF == ord('q'):\n",
    "        break\n",
    "\n",
    "cap.release()\n",
    "cv2.destroyAllWindows() "
   ]
  },
  {
   "cell_type": "code",
   "execution_count": 8,
   "metadata": {},
   "outputs": [
    {
     "data": {
      "text/plain": [
       "37"
      ]
     },
     "execution_count": 8,
     "metadata": {},
     "output_type": "execute_result"
    }
   ],
   "source": [
    "frame[0,0][0]"
   ]
  },
  {
   "cell_type": "code",
   "execution_count": null,
   "metadata": {},
   "outputs": [],
   "source": []
  }
 ],
 "metadata": {
  "interpreter": {
   "hash": "0e8cd04f7bb55943f5dedf315d11437faa3231527c7965003438a46da2438c61"
  },
  "kernelspec": {
   "display_name": "Python 3.8.12 64-bit ('3d': conda)",
   "language": "python",
   "name": "python3"
  },
  "language_info": {
   "codemirror_mode": {
    "name": "ipython",
    "version": 3
   },
   "file_extension": ".py",
   "mimetype": "text/x-python",
   "name": "python",
   "nbconvert_exporter": "python",
   "pygments_lexer": "ipython3",
   "version": "3.8.12"
  },
  "orig_nbformat": 4
 },
 "nbformat": 4,
 "nbformat_minor": 2
}
